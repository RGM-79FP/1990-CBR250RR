{
 "cells": [
  {
   "cell_type": "markdown",
   "metadata": {},
   "source": [
    "Question 1\n",
    "\n",
    "Define a recursive function `star_wars_recursive` that takes an argument `num_enemy_ships` and returns a string command to take down all the enemy ships.\n",
    "\n",
    "The string command will comprise of the beam: `'*-'`"
   ]
  },
  {
   "cell_type": "code",
   "execution_count": null,
   "metadata": {},
   "outputs": [],
   "source": [
    "def star_wars_recursive(num_enemy_ships):\n",
    "    if (num_enemy_ships == 0):\n",
    "        return(\"All ships destroyed\")\n",
    "    else:\n",
    "        print('*_')\n",
    "        return (num_enemy_ships -- 1) * (\"*_\")\n"
   ]
  },
  {
   "cell_type": "code",
   "execution_count": 20,
   "metadata": {},
   "outputs": [
    {
     "name": "stdout",
     "output_type": "stream",
     "text": [
      "True\n",
      "True\n",
      "True\n",
      "True\n"
     ]
    }
   ],
   "source": [
    "def star_wars_recursive(num_enemy_ships):\n",
    "    if (num_enemy_ships == 0):\n",
    "        return (\"\")\n",
    "    else:\n",
    "        return \"*-\" + star_wars_recursive(num_enemy_ships - 1) \n",
    "        \n",
    "\n",
    "\n",
    "print(star_wars_recursive(3) == '*-*-*-')\n",
    "print(star_wars_recursive(0) == '')\n",
    "print(star_wars_recursive(5) == '*-*-*-*-*-')\n",
    "print(star_wars_recursive(6) == '*-*-*-*-*-*-')"
   ]
  },
  {
   "cell_type": "markdown",
   "metadata": {},
   "source": [
    "Question 2\n",
    "\n",
    "Define a recursive function `alt_fire_recursive` that takes an argument `num_enemy_ships` and returns a string command to take down all the enemy ships.\n",
    "\n",
    "The string command will comprise of alternating beams: `'*-'` and `'*--'`"
   ]
  },
  {
   "cell_type": "code",
   "execution_count": null,
   "metadata": {},
   "outputs": [],
   "source": []
  },
  {
   "cell_type": "code",
   "execution_count": 37,
   "metadata": {},
   "outputs": [
    {
     "name": "stdout",
     "output_type": "stream",
     "text": [
      "*-\n",
      "True\n",
      "True\n",
      "True\n",
      "True\n"
     ]
    }
   ],
   "source": [
    "def alt_fire_recursive(num_enemy_ships):\n",
    "    if num_enemy_ships == 0:\n",
    "        return \"\"\n",
    "    elif num_enemy_ships == 1:\n",
    "        return \"*-\"\n",
    "    else:\n",
    "        return \"*-\" + \"*--\" + alt_fire_recursive(num_enemy_ships - 2)\n",
    "print(alt_fire_recursive(1))\n",
    "\n",
    "print(alt_fire_recursive(3) == '*-*--*-')\n",
    "print(alt_fire_recursive(0) == '')\n",
    "print(alt_fire_recursive(5) == '*-*--*-*--*-')\n",
    "print(alt_fire_recursive(6) == '*-*--*-*--*-*--')"
   ]
  },
  {
   "cell_type": "markdown",
   "metadata": {},
   "source": [
    "Question 5\n",
    "\n",
    "Use count_sum and count_odd to provide an alternative solution to count_even.\n",
    "\n",
    "You need not define count_sum and count_odd as they have been defined for you.\n"
   ]
  },
  {
   "cell_type": "code",
   "execution_count": 38,
   "metadata": {},
   "outputs": [
    {
     "name": "stdout",
     "output_type": "stream",
     "text": [
      "4\n"
     ]
    }
   ],
   "source": [
    "def count_sum(x):\n",
    "\tif x <= 0:\n",
    "\t\treturn 0\n",
    "\telse:\n",
    "\t\treturn x + count_sum(x-1)\n",
    "\n",
    "\t\t\n",
    "def count_odd(x):\n",
    "\tif x <= 0:\n",
    "\t\treturn 0\n",
    "\telse:\n",
    "\t\tif x % 2 != 0:\n",
    "\t\t\treturn x + count_odd(x-2)\n",
    "\t\telse:\n",
    "\t\t\treturn count_odd(x-1) \n",
    "\n",
    "\n",
    "print(count_odd(3))"
   ]
  },
  {
   "cell_type": "code",
   "execution_count": 52,
   "metadata": {},
   "outputs": [
    {
     "name": "stdout",
     "output_type": "stream",
     "text": [
      "2\n",
      "True\n",
      "True\n",
      "True\n",
      "True\n",
      "True\n",
      "True\n",
      "True\n",
      "6\n"
     ]
    }
   ],
   "source": [
    "def count_even(x):\n",
    "    return count_sum(x) - count_odd(x)\n",
    "\n",
    "\n",
    "print(count_even(3))\n",
    "\n",
    "print(count_even(5) == 6)\n",
    "print(count_even(6) == 12)\n",
    "print(count_even(7) == 12)\n",
    "print(count_even(8) == 20)\n",
    "print(count_even(9) == 20)\n",
    "print(count_even(1) == 0)\n",
    "print(count_even(2) == 2)\n",
    "print(count_even(5))"
   ]
  }
 ],
 "metadata": {
  "kernelspec": {
   "display_name": "Python 3",
   "language": "python",
   "name": "python3"
  },
  "language_info": {
   "codemirror_mode": {
    "name": "ipython",
    "version": 3
   },
   "file_extension": ".py",
   "mimetype": "text/x-python",
   "name": "python",
   "nbconvert_exporter": "python",
   "pygments_lexer": "ipython3",
   "version": "3.11.5"
  },
  "orig_nbformat": 4
 },
 "nbformat": 4,
 "nbformat_minor": 2
}
