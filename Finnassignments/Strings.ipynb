{
 "cells": [
  {
   "cell_type": "markdown",
   "metadata": {},
   "source": [
    "Question 1: String Concatenation (Greetings)\n",
    "Past answers\n",
    "\n",
    "Strings can be concatenated by adding them together using +.\n",
    "\n",
    "The greetings in the following languages has been given (and hidden from your view) and are assigned to the following variables:\n",
    "English,German, Malay, Korean\n",
    "\n",
    "One way to generate a greeting is as follows:\n",
    "\n",
    "```\n",
    "greeting= English + \"Alice\" #concatenate the greeting in English with \"Alice\"\n",
    "greeting\n",
    ">> \"Good day, Alice\"\n",
    "```\n",
    "\n",
    "Make use of string concatenation to generate greetings to the different people as given in the question below."
   ]
  },
  {
   "cell_type": "code",
   "execution_count": 4,
   "metadata": {},
   "outputs": [
    {
     "name": "stdout",
     "output_type": "stream",
     "text": [
      "Guten Tag, Anjali\n",
      "joh-eun achim-ieyo, Kim\n",
      "Good Morning, Davidson\n",
      "Selemat Pagi, Siti\n"
     ]
    }
   ],
   "source": [
    "friend1 = \"Anjali\"\n",
    "friend2 = \"Kim\"\n",
    "friend3 = \"Davidson\"\n",
    "friend4 = \"Siti\"\n",
    "\n",
    "German = \"Guten Tag, \"\n",
    "Korean = \"joh-eun achim-ieyo, \"\n",
    "English = \"Good Morning, \"\n",
    "Malay = \"Selemat Pagi, \"\n",
    "\n",
    "#complete the following line to define greeting1 in German to friend1\n",
    "#uncomment the following before submitting\n",
    "greeting1= German + friend1\n",
    "\n",
    "#complete the following line to define greeting2 in Korean to friend2\n",
    "#uncomment the following before submitting\n",
    "greeting2= Korean + friend2\n",
    "\n",
    "#complete the following line to define greeting3 in English to friend3\n",
    "#uncomment the following before submitting\n",
    "greeting3= English + friend3\n",
    "\n",
    "#complete the following line to define greeting4 in Malay to friend4\n",
    "#uncomment the following before submitting\n",
    "greeting4= Malay + friend4\n",
    "\n",
    "print(greeting1)\n",
    "print(greeting2)\n",
    "print(greeting3)\n",
    "print(greeting4)"
   ]
  },
  {
   "cell_type": "markdown",
   "metadata": {},
   "source": [
    "Question 2: String Multiplication (Song writing)\n",
    "Past answers\n",
    "\n",
    "In modern pop songs, some words are very commonly used: e.g. \"Baby\", \"Oh\", \"Hey\"\n",
    "\n",
    "Make use of the given string variables and apply string multiplication and concatenation to construct the lyrics to some of these well known pop songs.\n",
    "\n",
    "Learn to read the public test cases in coursemology which will give you an idea of what your code should do. \n"
   ]
  },
  {
   "cell_type": "code",
   "execution_count": 5,
   "metadata": {},
   "outputs": [
    {
     "name": "stdout",
     "output_type": "stream",
     "text": [
      "baby baby baby oh \n",
      "You don't gotta go to work work work work work work work \n",
      "gee gee gee gee baby baby baby \n"
     ]
    }
   ],
   "source": [
    "baby=\"baby \"\n",
    "\n",
    "oh=\"oh \"\n",
    "\n",
    "work=\"work \"\n",
    "\n",
    "gee=\"gee \"\n",
    "\n",
    "#complete the following to construct the first line of chorus to Justin Bieber's Baby (refer to test cases for details)\n",
    "\n",
    "#uncomment the following before submitting\n",
    "\n",
    "chorus1= baby*3 + oh\n",
    "\n",
    "#complete the following to construct the first line of chorus to Fifth Harmony's Work from Home (refer to test cases for details)\n",
    "\n",
    "#uncomment the following before submitting\n",
    "\n",
    "chorus2= \"You don't gotta go to \" + work*7\n",
    "\n",
    "#complete the following to construct the first line of chorus to Girl's Generation's Gee (refer to test cases for details)\n",
    "\n",
    "#uncomment the following before submitting\n",
    "\n",
    "chorus3= gee*4 + baby*3\n",
    "\n",
    "print(chorus1)\n",
    "print(chorus2)\n",
    "print(chorus3)"
   ]
  },
  {
   "cell_type": "markdown",
   "metadata": {},
   "source": [
    "Question 5: String Slicing\n",
    "Past answers\n",
    "\n",
    "Consider the following strings:\n",
    "\n",
    "```\n",
    "fruit=\"pineapple\"\n",
    "tree= \"mapletree\"\n",
    "```\n",
    "\n",
    "The word \"apple\" can be obtained from the variable fruit by slicing, i.e. `fruit[4:9] orfruit[4:]`\n",
    "\n",
    "The word \"pinetree\" can be obtained by writing  `fruit[0:4] + tree[5:9]`\n",
    "\n",
    "The word \"ape\" can be obtained by writing `tree[1:3]+tree[4]`\n",
    "\n",
    "Using string slicing and concatenation, write a single line of code to construct the following words from the given string variables a, b and c:\n",
    "\n",
    "1. \"uber\"\n",
    "\n",
    "2. \"microscope\"\n",
    "\n",
    "3. \"establishment\"\n",
    "\n",
    "4. \"antibiotics\"\n",
    "\n",
    "5. \"volcanorain\"\n",
    "\n",
    "Please do not hard code the answers. \n"
   ]
  },
  {
   "cell_type": "code",
   "execution_count": 26,
   "metadata": {},
   "outputs": [
    {
     "name": "stdout",
     "output_type": "stream",
     "text": [
      "uber\n",
      "microscope\n",
      "establishment\n",
      "antibiotics\n",
      "True\n"
     ]
    }
   ],
   "source": [
    "#Do not modify the following \n",
    "a = \"antidisestablishmentarianism\"\n",
    "b = \"blueberry\"\n",
    "c = \"pneumonoultramicroscopicsilicovolcanoconiosis\"\n",
    "\n",
    "#construct the \"uber\" from a, b, c and assign it word1\n",
    "#uncomment the following before submitting\n",
    "word1= b[2] + b[4:6] + b[6]\n",
    "\n",
    "#construct the \"microscope\" from a, b, c and assign it word2\n",
    "#uncomment the following before submitting\n",
    "word2= c[13:22] + b[3]\n",
    "\n",
    "#construct the \"establishment\" from a, b, c and assign it word3\n",
    "#uncomment the following before submitting\n",
    "word3= a[7:20]\n",
    "\n",
    "#construct the \"antibiotics\" from a, b, c and assign it word4\n",
    "#uncomment the following before submitting\n",
    "word4= a[0:4] + b[0] + a[3] + c[5] + a[2:4] + c[23:25]\n",
    "\n",
    "#construct the \"volcanorain\" from a, b, c and assign it word5\n",
    "#uncomment the following before submitting\n",
    "word5= c[30:37] + b[7] + a[0:1] + a[3] + a[1]\n",
    " \n",
    "print (word1)\n",
    "print(word2)\n",
    "print(word3)\n",
    "print(word4)\n",
    "print(word5 == 'volcanorain')\n"
   ]
  },
  {
   "cell_type": "code",
   "execution_count": null,
   "metadata": {},
   "outputs": [],
   "source": []
  }
 ],
 "metadata": {
  "kernelspec": {
   "display_name": "Python 3",
   "language": "python",
   "name": "python3"
  },
  "language_info": {
   "codemirror_mode": {
    "name": "ipython",
    "version": 3
   },
   "file_extension": ".py",
   "mimetype": "text/x-python",
   "name": "python",
   "nbconvert_exporter": "python",
   "pygments_lexer": "ipython3",
   "version": "3.12.1"
  },
  "orig_nbformat": 4
 },
 "nbformat": 4,
 "nbformat_minor": 2
}
